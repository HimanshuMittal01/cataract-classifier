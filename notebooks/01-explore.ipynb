{
 "cells": [
  {
   "cell_type": "code",
   "execution_count": null,
   "metadata": {},
   "outputs": [],
   "source": [
    "import math\n",
    "import random\n",
    "from pathlib import Path\n",
    "\n",
    "import timm\n",
    "import numpy as np\n",
    "from rich import print\n",
    "from PIL import Image\n",
    "import matplotlib.pyplot as plt\n",
    "\n",
    "from cataract_classifier.utils import display_dir_items"
   ]
  },
  {
   "cell_type": "code",
   "execution_count": null,
   "metadata": {},
   "outputs": [],
   "source": [
    "dataset_path = Path(\"../input/processed_images/\")\n",
    "\n",
    "display_dir_items(dataset_path / \"train\")"
   ]
  },
  {
   "cell_type": "code",
   "execution_count": null,
   "metadata": {},
   "outputs": [],
   "source": [
    "img_filepaths = [filepath for filepath in (dataset_path / \"train/\").rglob(\"*\") if filepath.is_file()]"
   ]
  },
  {
   "cell_type": "code",
   "execution_count": null,
   "metadata": {},
   "outputs": [],
   "source": [
    "# Create a list to store the first image found for each class\n",
    "DISPLAY_NUM_IMAGES = 20\n",
    "sample_image_paths = random.sample(img_filepaths, k=DISPLAY_NUM_IMAGES)\n",
    "sample_labels = [path.parent.stem for path in sample_image_paths]\n",
    "\n",
    "# Calculate the number of rows and columns\n",
    "grid_size = math.floor(math.sqrt(len(sample_image_paths)))\n",
    "n_rows = grid_size+(1 if grid_size**2 < len(sample_image_paths) else 0)\n",
    "n_cols = grid_size\n",
    "\n",
    "# Create a figure for the grid\n",
    "fig, axs = plt.subplots(n_rows, n_cols, figsize=(12,12))\n",
    "\n",
    "for i, ax in enumerate(axs.flatten()):\n",
    "    # If we have an image for this subplot\n",
    "    if i < len(sample_image_paths) and sample_image_paths[i]:\n",
    "        ax.imshow(np.array(Image.open(sample_image_paths[i]).convert('RGB')))\n",
    "        ax.set_title(sample_labels[i])\n",
    "\n",
    "    # Remove the axis\n",
    "    ax.axis('off')\n",
    "\n",
    "plt.tight_layout()\n",
    "plt.show()"
   ]
  },
  {
   "cell_type": "code",
   "execution_count": null,
   "metadata": {},
   "outputs": [],
   "source": [
    "plt.scatter(\n",
    "    x=[Image.open(f).width for f in img_filepaths],\n",
    "    y=[Image.open(f).height for f in img_filepaths],\n",
    "    marker=\"o\",\n",
    "    s=3.0,\n",
    "    alpha=0.5\n",
    ")\n",
    "plt.xlabel(\"Image Width\")\n",
    "plt.ylabel(\"Image Height\")\n",
    "plt.show()"
   ]
  },
  {
   "cell_type": "code",
   "execution_count": null,
   "metadata": {},
   "outputs": [],
   "source": [
    "print(timm.list_models(\"*efficientnet*\", pretrained=True))"
   ]
  },
  {
   "cell_type": "code",
   "execution_count": null,
   "metadata": {},
   "outputs": [],
   "source": [
    "model = timm.create_model('efficientnet_b0', pretrained=True, num_classes=1)"
   ]
  },
  {
   "cell_type": "code",
   "execution_count": null,
   "metadata": {},
   "outputs": [],
   "source": [
    "from timm.models import efficientnet\n",
    "\n",
    "model_cfg = efficientnet.default_cfgs['efficientnet_b0'].default.to_dict()\n",
    "print(model_cfg)"
   ]
  },
  {
   "cell_type": "code",
   "execution_count": null,
   "metadata": {},
   "outputs": [],
   "source": []
  }
 ],
 "metadata": {
  "kernelspec": {
   "display_name": ".venv",
   "language": "python",
   "name": "python3"
  },
  "language_info": {
   "codemirror_mode": {
    "name": "ipython",
    "version": 3
   },
   "file_extension": ".py",
   "mimetype": "text/x-python",
   "name": "python",
   "nbconvert_exporter": "python",
   "pygments_lexer": "ipython3",
   "version": "3.10.15"
  }
 },
 "nbformat": 4,
 "nbformat_minor": 2
}
